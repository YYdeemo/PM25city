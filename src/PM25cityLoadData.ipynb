{
 "cells": [
  {
   "cell_type": "markdown",
   "metadata": {},
   "source": [
    "经由pandas写入的csv文件带header；再存入hdfs系统中，之后spark.read.csv无格式问题，可直接有header；直接读会有格式问题；"
   ]
  },
  {
   "cell_type": "code",
   "execution_count": null,
   "metadata": {},
   "outputs": [],
   "source": [
    "import pandas sd pd\n",
    "df_pd = pd.read_csv(\"/Users/apple/Desktop/研二/hadoop/PM25city.txt\")\n",
    "df = spark.createDataFrame(df_pd)\n",
    "df.write.csv(path=\"hdfs://localhost:8020/user/apple/PM25city_df.csv\",header=\"true\")"
   ]
  },
  {
   "cell_type": "markdown",
   "metadata": {},
   "source": [
    "findsprk package帮助在python环境中设置pyspark的环境变量"
   ]
  },
  {
   "cell_type": "code",
   "execution_count": 15,
   "metadata": {},
   "outputs": [],
   "source": [
    "import findspark\n",
    "findspark.init()\n",
    "import pyspark"
   ]
  },
  {
   "cell_type": "markdown",
   "metadata": {},
   "source": [
    "初始化spark"
   ]
  },
  {
   "cell_type": "code",
   "execution_count": 22,
   "metadata": {},
   "outputs": [],
   "source": [
    "spark = pyspark.sql.SparkSession.builder \\\n",
    "    .appName(\"PM25city\") \\\n",
    "    .master(\"local\") \\\n",
    "    .getOrCreate()  "
   ]
  },
  {
   "cell_type": "markdown",
   "metadata": {},
   "source": [
    "从hdfs系统中读取csv文件，前提是hadoop已经启动；header = true//第一行数据为列名"
   ]
  },
  {
   "cell_type": "code",
   "execution_count": 451,
   "metadata": {},
   "outputs": [],
   "source": [
    "df = spark.read.csv(\"hdfs://localhost:8020/user/apple/PM25city_df.csv\",header=\"true\")"
   ]
  },
  {
   "cell_type": "markdown",
   "metadata": {},
   "source": [
    "对数据进行简单的预判"
   ]
  },
  {
   "cell_type": "code",
   "execution_count": 421,
   "metadata": {},
   "outputs": [
    {
     "name": "stdout",
     "output_type": "stream",
     "text": [
      "+-----+------+-----+----+----+---+---+----+-----+---+---+----+----+-----+---+----+----+\n",
      "| 站号|  经度| 纬度|PM25|PM10|NO2|SO2|O3-1|O3-8h| CO|AQI|等级|year|month|day|hour|city|\n",
      "+-----+------+-----+----+----+---+---+----+-----+---+---+----+----+-----+---+----+----+\n",
      "|99000|115.49|38.88|  43|  68| 21| 20| 104|  104|0.6| 60|   2|2018|    8|  1|   0|北京|\n",
      "|99001|115.51|38.88|  38|  58| 26| 20| 120|  120|0.6| 54|   2|2018|    8|  1|   0|北京|\n",
      "|99002|115.47|38.91|  50|  72| 22| 17| 113|  113|0.7| 69|   2|2018|    8|  1|   0|北京|\n",
      "+-----+------+-----+----+----+---+---+----+-----+---+---+----+----+-----+---+----+----+\n",
      "only showing top 3 rows\n",
      "\n"
     ]
    }
   ],
   "source": [
    "df.show(3)"
   ]
  },
  {
   "cell_type": "code",
   "execution_count": 452,
   "metadata": {},
   "outputs": [
    {
     "data": {
      "text/plain": [
       "[('站号', 'string'),\n",
       " ('经度', 'string'),\n",
       " ('纬度', 'string'),\n",
       " ('PM25', 'string'),\n",
       " ('PM10', 'string'),\n",
       " ('NO2', 'string'),\n",
       " ('SO2', 'string'),\n",
       " ('O3-1', 'string'),\n",
       " ('O3-8h', 'string'),\n",
       " ('CO', 'string'),\n",
       " ('AQI', 'string'),\n",
       " ('等级', 'string'),\n",
       " ('year', 'string'),\n",
       " ('month', 'string'),\n",
       " ('day', 'string'),\n",
       " ('hour', 'string'),\n",
       " ('city', 'string')]"
      ]
     },
     "execution_count": 452,
     "metadata": {},
     "output_type": "execute_result"
    }
   ],
   "source": [
    "df.dtypes"
   ]
  },
  {
   "cell_type": "markdown",
   "metadata": {},
   "source": [
    "需要修改dataframe里面的数据类型"
   ]
  },
  {
   "cell_type": "code",
   "execution_count": 453,
   "metadata": {},
   "outputs": [
    {
     "name": "stdout",
     "output_type": "stream",
     "text": [
      "['站号', '经度', '纬度', 'PM25', 'PM10', 'NO2', 'SO2', 'O3-1', 'O3-8h', 'CO', 'AQI', '等级', 'year', 'month', 'day', 'hour']\n"
     ]
    },
    {
     "data": {
      "text/plain": [
       "[('站号', 'int'),\n",
       " ('经度', 'int'),\n",
       " ('纬度', 'int'),\n",
       " ('PM25', 'int'),\n",
       " ('PM10', 'int'),\n",
       " ('NO2', 'int'),\n",
       " ('SO2', 'int'),\n",
       " ('O3-1', 'int'),\n",
       " ('O3-8h', 'int'),\n",
       " ('CO', 'int'),\n",
       " ('AQI', 'int'),\n",
       " ('等级', 'int'),\n",
       " ('year', 'int'),\n",
       " ('month', 'int'),\n",
       " ('day', 'int'),\n",
       " ('hour', 'int'),\n",
       " ('city', 'string')]"
      ]
     },
     "execution_count": 453,
     "metadata": {},
     "output_type": "execute_result"
    }
   ],
   "source": [
    "from pyspark.sql.functions import col\n",
    "from pyspark.sql.types import StringType,IntegerType\n",
    "def cast_type_to_int(input_df,col_name):\n",
    "    return input_df.withColumn(col_name,input_df[col_name].cast(IntegerType()))\n",
    "a = df.columns\n",
    "a.remove('city')\n",
    "print(a)\n",
    "for n in a:\n",
    "    df = cast_type_to_int(df, n)\n",
    "df.dtypes"
   ]
  },
  {
   "cell_type": "code",
   "execution_count": 454,
   "metadata": {},
   "outputs": [
    {
     "name": "stdout",
     "output_type": "stream",
     "text": [
      "+-------+------------------+-----------------+------------------+-----------------+-----------------+------------------+------------------+-----------------+------------------+------------------+-----------------+------------------+------------------+------------------+------------------+------------------+------+\n",
      "|summary|              站号|             经度|              纬度|             PM25|             PM10|               NO2|               SO2|             O3-1|             O3-8h|                CO|              AQI|              等级|              year|             month|               day|              hour|  city|\n",
      "+-------+------------------+-----------------+------------------+-----------------+-----------------+------------------+------------------+-----------------+------------------+------------------+-----------------+------------------+------------------+------------------+------------------+------------------+------+\n",
      "|  count|            398355|           398355|            398355|           398355|           398355|            398355|            398355|           398355|            398355|            398355|           398355|            398355|            398355|            398355|            398355|            398355|398355|\n",
      "|   mean| 98517.91446825067|113.5734960023095|34.055807006313465|58.73549974269182|93.66729675791693| 38.13078033412408| 13.27706442745792|54.62740018325363|52.645394183579974|0.5791944371226669|87.48806717626238|2.1991615518821153| 2018.748854664809| 3.258430294586487|14.755293645115538|11.692796626124938|  null|\n",
      "| stddev|2013.0857795443294| 7.46825655419327| 5.276499639577898|57.21569843647059|76.65305595462962|27.300737874267465|13.749014023331618|44.93309814751882| 40.49596719384081|0.8083158695645015|66.75725605583852| 1.218379582369763|0.4336724892455235|2.8990291346229387| 8.645742689183274| 6.939553075522313|  null|\n",
      "|    min|             92010|               87|                19|                0|                0|                 0|                 0|                0|                 0|                 0|                0|                 1|              2018|                 1|                 1|                 0|  上海|\n",
      "|    max|             99997|              121|                44|              589|             1384|               339|               489|              642|               300|                14|              500|                 6|              2019|                 8|                31|                23|  青岛|\n",
      "+-------+------------------+-----------------+------------------+-----------------+-----------------+------------------+------------------+-----------------+------------------+------------------+-----------------+------------------+------------------+------------------+------------------+------------------+------+\n",
      "\n"
     ]
    }
   ],
   "source": [
    "df.describe().show()"
   ]
  },
  {
   "cell_type": "markdown",
   "metadata": {},
   "source": [
    "发现每一个城市的有行数不一致，可能是因为每一天的测量次数不一致，每个城市的站点也不一致的原因"
   ]
  },
  {
   "cell_type": "code",
   "execution_count": 455,
   "metadata": {},
   "outputs": [
    {
     "data": {
      "text/plain": [
       "[Row(city='昆明', count=17223),\n",
       " Row(city='天津', count=55384),\n",
       " Row(city='成都', count=41165),\n",
       " Row(city='郑州', count=54302),\n",
       " Row(city='厦门', count=22304),\n",
       " Row(city='青岛', count=39335),\n",
       " Row(city='济南', count=37609),\n",
       " Row(city='呼和浩特', count=13728),\n",
       " Row(city='上海', count=55441),\n",
       " Row(city='海口', count=9398),\n",
       " Row(city='乌鲁木齐', count=14838),\n",
       " Row(city='北京', count=37628)]"
      ]
     },
     "execution_count": 455,
     "metadata": {},
     "output_type": "execute_result"
    }
   ],
   "source": [
    "df.groupBy(df.city).count().collect()"
   ]
  },
  {
   "cell_type": "markdown",
   "metadata": {},
   "source": [
    "## Problem 1: 拥有最高的和最低的PM25的城市"
   ]
  },
  {
   "cell_type": "markdown",
   "metadata": {},
   "source": [
    "要确定拥有最高PM25的城市，首先选择有最高值的城市"
   ]
  },
  {
   "cell_type": "code",
   "execution_count": 456,
   "metadata": {},
   "outputs": [
    {
     "data": {
      "text/plain": [
       "[Row(max(PM25)=589)]"
      ]
     },
     "execution_count": 456,
     "metadata": {},
     "output_type": "execute_result"
    }
   ],
   "source": [
    "df.agg({\"PM25\":\"max\"}).collect()"
   ]
  },
  {
   "cell_type": "code",
   "execution_count": 462,
   "metadata": {},
   "outputs": [
    {
     "data": {
      "text/plain": [
       "[Row(站号=99011, 经度=116, 纬度=39, PM25=589, PM10=632, NO2=143, SO2=6, O3-1=7, O3-8h=10, CO=4, AQI=500, 等级=6, year=2019, month=1, day=12, hour=21, city='北京'),\n",
       " Row(站号=99011, 经度=116, 纬度=39, PM25=589, PM10=632, NO2=143, SO2=6, O3-1=7, O3-8h=10, CO=4, AQI=500, 等级=6, year=2019, month=1, day=12, hour=21, city='天津')]"
      ]
     },
     "execution_count": 462,
     "metadata": {},
     "output_type": "execute_result"
    }
   ],
   "source": [
    "df.where(df.PM25==589).collect()"
   ]
  },
  {
   "cell_type": "code",
   "execution_count": 463,
   "metadata": {},
   "outputs": [
    {
     "data": {
      "text/plain": [
       "[Row(min(PM25)=0)]"
      ]
     },
     "execution_count": 463,
     "metadata": {},
     "output_type": "execute_result"
    }
   ],
   "source": [
    "df.agg({\"PM25\":\"min\"}).collect()"
   ]
  },
  {
   "cell_type": "code",
   "execution_count": 465,
   "metadata": {},
   "outputs": [
    {
     "data": {
      "text/plain": [
       "[Row(city='海口', count=5),\n",
       " Row(city='呼和浩特', count=9),\n",
       " Row(city='厦门', count=11),\n",
       " Row(city='北京', count=15),\n",
       " Row(city='成都', count=28),\n",
       " Row(city='天津', count=30),\n",
       " Row(city='乌鲁木齐', count=30),\n",
       " Row(city='郑州', count=38),\n",
       " Row(city='昆明', count=42),\n",
       " Row(city='济南', count=43),\n",
       " Row(city='青岛', count=63),\n",
       " Row(city='上海', count=96)]"
      ]
     },
     "execution_count": 465,
     "metadata": {},
     "output_type": "execute_result"
    }
   ],
   "source": [
    "df.where(df.PM25==0).groupBy('city').count().sort('count').collect()"
   ]
  },
  {
   "cell_type": "markdown",
   "metadata": {},
   "source": [
    "计算PM25最高值大于500，属于爆表的城市的天数，然后排序得到结果如下："
   ]
  },
  {
   "cell_type": "code",
   "execution_count": 471,
   "metadata": {
    "scrolled": true
   },
   "outputs": [
    {
     "data": {
      "text/plain": [
       "[Row(city='郑州', count(max(PM25))=1),\n",
       " Row(city='呼和浩特', count(max(PM25))=1),\n",
       " Row(city='天津', count(max(PM25))=2),\n",
       " Row(city='济南', count(max(PM25))=2),\n",
       " Row(city='乌鲁木齐', count(max(PM25))=2),\n",
       " Row(city='北京', count(max(PM25))=2)]"
      ]
     },
     "execution_count": 471,
     "metadata": {},
     "output_type": "execute_result"
    }
   ],
   "source": [
    "gdf = df.groupBy(\"city\",\"year\",\"month\",\"day\")\n",
    "gdf.agg({\"PM25\":\"max\"}).where(\"max(PM25)>500\").groupBy(\"city\").agg({\"max(PM25)\":\"count\"}).sort(\"count(max(PM25))\").collect()"
   ]
  },
  {
   "cell_type": "markdown",
   "metadata": {},
   "source": [
    "### 更换测量标准 选择PM25的最大值小于35，表示该城市的当天空气质量情况良好，\n",
    "<p>计算每个城市所拥有的天数，得到结果如下："
   ]
  },
  {
   "cell_type": "code",
   "execution_count": 474,
   "metadata": {},
   "outputs": [
    {
     "data": {
      "text/plain": [
       "[Row(city='上海', count(max(PM25))=1),\n",
       " Row(city='济南', count(max(PM25))=2),\n",
       " Row(city='厦门', count(max(PM25))=6),\n",
       " Row(city='呼和浩特', count(max(PM25))=6),\n",
       " Row(city='青岛', count(max(PM25))=7),\n",
       " Row(city='昆明', count(max(PM25))=8),\n",
       " Row(city='海口', count(max(PM25))=60)]"
      ]
     },
     "execution_count": 474,
     "metadata": {},
     "output_type": "execute_result"
    }
   ],
   "source": [
    "gdf.agg({\"PM25\":\"max\"}).where(\"max(PM25)<35\").groupBy(\"city\").agg({\"max(PM25)\":\"count\"}).sort(\"count(max(PM25))\").collect()"
   ]
  },
  {
   "cell_type": "markdown",
   "metadata": {},
   "source": [
    "### 更换测量标准2， 选择一天的PM25的平均值最为该城市的当天PM25的值\n",
    "<p>并且寻找每个城市的总的PM25的平均值，得到的最终结果排序为"
   ]
  },
  {
   "cell_type": "code",
   "execution_count": 179,
   "metadata": {},
   "outputs": [
    {
     "data": {
      "text/plain": [
       "[Row(city='海口', avg(avg(PM25))=15.878023478729292),\n",
       " Row(city='昆明', avg(avg(PM25))=24.192705723185576),\n",
       " Row(city='厦门', avg(avg(PM25))=26.827465277024345),\n",
       " Row(city='呼和浩特', avg(avg(PM25))=39.092328743765975),\n",
       " Row(city='上海', avg(avg(PM25))=40.50576370175736),\n",
       " Row(city='成都', avg(avg(PM25))=51.023336946955794),\n",
       " Row(city='北京', avg(avg(PM25))=55.81112081179114),\n",
       " Row(city='青岛', avg(avg(PM25))=56.62600458358438),\n",
       " Row(city='天津', avg(avg(PM25))=57.277712989978724),\n",
       " Row(city='济南', avg(avg(PM25))=75.25010141092174),\n",
       " Row(city='乌鲁木齐', avg(avg(PM25))=76.29316658190142),\n",
       " Row(city='郑州', avg(avg(PM25))=88.99536333473276)]"
      ]
     },
     "execution_count": 179,
     "metadata": {},
     "output_type": "execute_result"
    }
   ],
   "source": [
    "gdf.agg({\"PM25\":\"avg\"}).groupBy(\"city\").avg(\"avg(PM25)\").sort(\"avg(avg(PM25))\").collect()"
   ]
  },
  {
   "cell_type": "markdown",
   "metadata": {},
   "source": [
    "### 更换测量标准3：以每一天的PM25的平均值作为当天的PM25的值，然后计算每个城市平均值小于35的天数\n",
    "<p>得到结果如下："
   ]
  },
  {
   "cell_type": "code",
   "execution_count": 473,
   "metadata": {},
   "outputs": [
    {
     "data": {
      "text/plain": [
       "[Row(city='郑州', count=16),\n",
       " Row(city='济南', count=26),\n",
       " Row(city='成都', count=27),\n",
       " Row(city='乌鲁木齐', count=31),\n",
       " Row(city='天津', count=36),\n",
       " Row(city='北京', count=36),\n",
       " Row(city='青岛', count=47),\n",
       " Row(city='呼和浩特', count=51),\n",
       " Row(city='上海', count=57),\n",
       " Row(city='厦门', count=72),\n",
       " Row(city='昆明', count=80),\n",
       " Row(city='海口', count=90)]"
      ]
     },
     "execution_count": 473,
     "metadata": {},
     "output_type": "execute_result"
    }
   ],
   "source": [
    "gdf.agg({'PM25':\"avg\"}).where(\"avg(PM25)<35\").groupBy(\"city\").count().sort(\"count\").collect()"
   ]
  },
  {
   "cell_type": "markdown",
   "metadata": {},
   "source": [
    "### Problem 1 最终结果\n",
    "可以看见以上的多种测量标准下，最终结果相差不大。\n",
    "<p>拥有最高的PM25的城市是：郑州、天津、乌鲁木齐、济南、北京、成都</p>\n",
    "<p>拥有最低的PM25的城市是：海口、昆明、厦门、呼和浩特、上海"
   ]
  },
  {
   "cell_type": "markdown",
   "metadata": {},
   "source": [
    "## Problem 2 北京、成都、上海的 2019年2月 的城市空气质量分布情况"
   ]
  },
  {
   "cell_type": "code",
   "execution_count": 187,
   "metadata": {},
   "outputs": [
    {
     "name": "stdout",
     "output_type": "stream",
     "text": [
      "+-----+------+-----+----+----+---+---+----+-----+---+---+----+----+-----+---+----+----+\n",
      "| 站号|  经度| 纬度|PM25|PM10|NO2|SO2|O3-1|O3-8h| CO|AQI|等级|year|month|day|hour|city|\n",
      "+-----+------+-----+----+----+---+---+----+-----+---+---+----+----+-----+---+----+----+\n",
      "|99000|115.49|38.88|  43|  68| 21| 20| 104|  104|0.6| 60|   2|2018|    8|  1|   0|北京|\n",
      "|99001|115.51|38.88|  38|  58| 26| 20| 120|  120|0.6| 54|   2|2018|    8|  1|   0|北京|\n",
      "|99002|115.47|38.91|  50|  72| 22| 17| 113|  113|0.7| 69|   2|2018|    8|  1|   0|北京|\n",
      "+-----+------+-----+----+----+---+---+----+-----+---+---+----+----+-----+---+----+----+\n",
      "only showing top 3 rows\n",
      "\n"
     ]
    }
   ],
   "source": [
    "df.show(3)"
   ]
  },
  {
   "cell_type": "markdown",
   "metadata": {},
   "source": [
    "在原数据中有等级这一指标，该指标所有数值为整数值，最大为6；符合老师所设定的六个等级：\n",
    "<p>Good, Moderate, Unhealthy, Very Unhealthy and Hazardous </p>\n",
    "<p>"
   ]
  },
  {
   "cell_type": "markdown",
   "metadata": {},
   "source": [
    "由于spark sql下 GroupedData下的方法并不多，所以spark提供了用户自定义函数，"
   ]
  },
  {
   "cell_type": "markdown",
   "metadata": {},
   "source": [
    "解决该问题的基本思路是选择北京、上海、成都的2019年2月的数据，\n",
    "<p>确定每天的等级，然后记数\n",
    "    <p>每天的等级直接取平均值，将会得到一个浮点数，所以不能直接取平均值，这里自定义函数为取平均值之后，取整数部分"
   ]
  },
  {
   "cell_type": "code",
   "execution_count": 477,
   "metadata": {},
   "outputs": [],
   "source": [
    "import pyspark.sql.functions as F\n",
    "from pyspark.sql.types import IntegerType\n",
    "\n",
    "def func(x):\n",
    "    xx = list(x)\n",
    "    r = int(mean(xx))\n",
    "    return r\n",
    "myUDF = F.udf(func,IntegerType())"
   ]
  },
  {
   "cell_type": "code",
   "execution_count": 478,
   "metadata": {},
   "outputs": [],
   "source": [
    "df2 = df.where(((df.city ==\"北京\") | (df.city==\"成都\") | (df.city==\"上海\"))&(df.year==2019)&(df.month==2))\n",
    "df3 = df2.groupBy(\"city\",\"day\").agg(myUDF(F.collect_list(\"等级\")).alias(\"rank\"))"
   ]
  },
  {
   "cell_type": "code",
   "execution_count": 481,
   "metadata": {},
   "outputs": [
    {
     "data": {
      "text/plain": [
       "[Row(city='上海', rank=3, count(day)=3),\n",
       " Row(city='上海', rank=1, count(day)=16),\n",
       " Row(city='上海', rank=2, count(day)=9),\n",
       " Row(city='北京', rank=1, count(day)=11),\n",
       " Row(city='北京', rank=3, count(day)=6),\n",
       " Row(city='北京', rank=2, count(day)=9),\n",
       " Row(city='北京', rank=4, count(day)=2),\n",
       " Row(city='成都', rank=1, count(day)=14),\n",
       " Row(city='成都', rank=2, count(day)=13),\n",
       " Row(city='成都', rank=3, count(day)=1)]"
      ]
     },
     "execution_count": 481,
     "metadata": {},
     "output_type": "execute_result"
    }
   ],
   "source": [
    "df3.groupBy(\"city\",\"rank\").agg({\"day\":\"count\"}).sort(\"city\").collect()"
   ]
  },
  {
   "cell_type": "markdown",
   "metadata": {},
   "source": [
    "### Problem 2 结果为：\n",
    "| city | good |  Moderate | Unhealthy | Very | Unhealthy | Hazardous |\n",
    "| :--: | :--: | :-------: | :-------: | :--: | :-------: | :-------: |\n",
    "| 北京 | 11 | 9 | 6 | 2 | 0 | 0 |\n",
    "| 上海 | 16 | 9 | 3 | 0 | 0 | 0 |\n",
    "| 成都 | 14 | 13 | 1 | 0 | 0 | 0 |\n"
   ]
  },
  {
   "cell_type": "markdown",
   "metadata": {},
   "source": [
    "## Problem 3 城市空气质量的可视化，在文件PlotCityMap.ipynb中实现"
   ]
  },
  {
   "cell_type": "code",
   "execution_count": 482,
   "metadata": {},
   "outputs": [
    {
     "name": "stdout",
     "output_type": "stream",
     "text": [
      "+-----+----+----+----+----+---+---+----+-----+---+---+----+----+-----+---+----+----+\n",
      "| 站号|经度|纬度|PM25|PM10|NO2|SO2|O3-1|O3-8h| CO|AQI|等级|year|month|day|hour|city|\n",
      "+-----+----+----+----+----+---+---+----+-----+---+---+----+----+-----+---+----+----+\n",
      "|99000| 115|  38|  43|  68| 21| 20| 104|  104|  0| 60|   2|2018|    8|  1|   0|北京|\n",
      "|99001| 115|  38|  38|  58| 26| 20| 120|  120|  0| 54|   2|2018|    8|  1|   0|北京|\n",
      "|99002| 115|  38|  50|  72| 22| 17| 113|  113|  0| 69|   2|2018|    8|  1|   0|北京|\n",
      "+-----+----+----+----+----+---+---+----+-----+---+---+----+----+-----+---+----+----+\n",
      "only showing top 3 rows\n",
      "\n"
     ]
    }
   ],
   "source": [
    "df.show(3)"
   ]
  },
  {
   "cell_type": "code",
   "execution_count": 483,
   "metadata": {},
   "outputs": [],
   "source": [
    "map0 = df.select(df.经度.alias(\"lo\"),df.纬度.alias(\"la\"),\"city\",\"AQI\",\"year\",\"month\",\"day\",\"hour\")"
   ]
  },
  {
   "cell_type": "code",
   "execution_count": 488,
   "metadata": {},
   "outputs": [],
   "source": [
    "map1 = map0.groupBy(\"city\",\"year\",\"month\",\"day\",\"lo\",\"la\").agg({\"AQI\":\"avg\"})\n",
    "map2 = map1.groupBy(\"city\",\"year\",\"month\",\"day\",\"lo\",\"avg(AQI)\").agg({\"la\":\"avg\"})\n",
    "map3 = map2.groupBy(\"city\",\"year\",\"month\",\"day\",\"avg(la)\",\"avg(AQI)\").agg({\"lo\":\"avg\"})"
   ]
  },
  {
   "cell_type": "code",
   "execution_count": 490,
   "metadata": {},
   "outputs": [
    {
     "name": "stdout",
     "output_type": "stream",
     "text": [
      "+-------+----+------------------+------------------+-----------------+-----------------+-----------------+------------------+\n",
      "|summary|city|              year|             month|              day|          avg(la)|         avg(AQI)|           avg(lo)|\n",
      "+-------+----+------------------+------------------+-----------------+-----------------+-----------------+------------------+\n",
      "|  count|4217|              4217|              4217|             4217|             4217|             4217|              4217|\n",
      "|   mean|null|2018.6582878823808|3.8541617263457435|15.17714014702395| 33.5515769504387|81.56531827013755|112.29689352620346|\n",
      "| stddev|null|0.4743398584923505| 3.119432781454499|8.571009844294302|6.172316693250889|58.50447141373459| 8.789633596095099|\n",
      "|    min|上海|              2018|                 1|                1|             19.0|            11.75|              87.0|\n",
      "|    max|青岛|              2019|                 8|               31|             44.0|            500.0|             121.0|\n",
      "+-------+----+------------------+------------------+-----------------+-----------------+-----------------+------------------+\n",
      "\n"
     ]
    }
   ],
   "source": [
    "map3.withColumnRenamed(\"avg(AQI)\",\"AQI\")\n",
    "map3.withColumnRenamed(\"avg(lo)\",\"lo\")\n",
    "map3.withColumnRenamed(\"avg(la)\",\"la\")\n",
    "\n",
    "map3.describe().show()"
   ]
  },
  {
   "cell_type": "code",
   "execution_count": 493,
   "metadata": {},
   "outputs": [],
   "source": [
    "map3.repartition(1).write.csv(\"../resource/city_map.csv\",header=\"true\")"
   ]
  },
  {
   "cell_type": "code",
   "execution_count": null,
   "metadata": {},
   "outputs": [],
   "source": []
  }
 ],
 "metadata": {
  "kernelspec": {
   "display_name": "Python 3",
   "language": "python",
   "name": "python3"
  },
  "language_info": {
   "codemirror_mode": {
    "name": "ipython",
    "version": 3
   },
   "file_extension": ".py",
   "mimetype": "text/x-python",
   "name": "python",
   "nbconvert_exporter": "python",
   "pygments_lexer": "ipython3",
   "version": "3.6.8"
  }
 },
 "nbformat": 4,
 "nbformat_minor": 2
}
